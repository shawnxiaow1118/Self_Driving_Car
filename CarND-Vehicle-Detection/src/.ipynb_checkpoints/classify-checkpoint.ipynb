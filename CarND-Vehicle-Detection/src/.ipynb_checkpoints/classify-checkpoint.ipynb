{
 "cells": [
  {
   "cell_type": "code",
   "execution_count": 11,
   "metadata": {
    "collapsed": false,
    "deletable": true,
    "editable": true
   },
   "outputs": [],
   "source": [
    "import os\n",
    "import glob\n",
    "from helper import *\n",
    "import time\n",
    "import matplotlib.image as mpimg\n",
    "from skimage.feature import hog\n",
    "import numpy.random as random\n",
    "import time\n",
    "from sklearn.svm import LinearSVC\n",
    "from sklearn.preprocessing import StandardScaler\n",
    "# NOTE: the next import is only valid \n",
    "# for scikit-learn version <= 0.17\n",
    "# if you are using scikit-learn >= 0.18 then use this:\n",
    "# from sklearn.model_selection import train_test_split\n",
    "from sklearn.cross_validation import train_test_split"
   ]
  },
  {
   "cell_type": "code",
   "execution_count": 12,
   "metadata": {
    "collapsed": false,
    "deletable": true,
    "editable": true
   },
   "outputs": [
    {
     "name": "stdout",
     "output_type": "stream",
     "text": [
      "Number of cars is 8792\n",
      "Number of not cars is 8968\n"
     ]
    }
   ],
   "source": [
    "car_images = []\n",
    "vehicle_dir = os.listdir(\"../vehicles/\")\n",
    "del vehicle_dir[0]\n",
    "for path_dir in vehicle_dir:\n",
    "    car_images.extend(glob.glob('../vehicles/'+ path_dir +'/*.png'))\n",
    "    \n",
    "not_car_images = []\n",
    "non_vehicle_dir = os.listdir(\"../non-vehicles/\")\n",
    "del non_vehicle_dir[0]\n",
    "for path_dir in non_vehicle_dir:\n",
    "    not_car_images.extend(glob.glob('../non-vehicles/'+ path_dir +'/*.png'))\n",
    "\n",
    "cars = []\n",
    "notcars = []\n",
    "\n",
    "for image in car_images:\n",
    "    cars.append(image)\n",
    "for image in not_car_images:\n",
    "    notcars.append(image)\n",
    "    \n",
    "print(\"Number of cars is {}\".format(len(cars)))\n",
    "print(\"Number of not cars is {}\".format(len(notcars)))"
   ]
  },
  {
   "cell_type": "code",
   "execution_count": 13,
   "metadata": {
    "collapsed": false,
    "deletable": true,
    "editable": true
   },
   "outputs": [
    {
     "ename": "NameError",
     "evalue": "name 'mpimg' is not defined",
     "output_type": "error",
     "traceback": [
      "\u001b[0;31m---------------------------------------------------------------------------\u001b[0m",
      "\u001b[0;31mNameError\u001b[0m                                 Traceback (most recent call last)",
      "\u001b[0;32m<ipython-input-13-3397d8e8a6ea>\u001b[0m in \u001b[0;36m<module>\u001b[0;34m()\u001b[0m\n\u001b[1;32m     11\u001b[0m                         \u001b[0mhist_bins\u001b[0m\u001b[0;34m=\u001b[0m\u001b[0mhist_bins\u001b[0m\u001b[0;34m,\u001b[0m \u001b[0mcolor_space\u001b[0m\u001b[0;34m=\u001b[0m\u001b[0mcolorspace\u001b[0m\u001b[0;34m,\u001b[0m \u001b[0morient\u001b[0m\u001b[0;34m=\u001b[0m\u001b[0morient\u001b[0m\u001b[0;34m,\u001b[0m\u001b[0;34m\u001b[0m\u001b[0m\n\u001b[1;32m     12\u001b[0m                         \u001b[0mpix_per_cell\u001b[0m\u001b[0;34m=\u001b[0m\u001b[0mpix_per_cell\u001b[0m\u001b[0;34m,\u001b[0m \u001b[0mcell_per_block\u001b[0m\u001b[0;34m=\u001b[0m\u001b[0mcell_per_block\u001b[0m\u001b[0;34m,\u001b[0m\u001b[0;34m\u001b[0m\u001b[0m\n\u001b[0;32m---> 13\u001b[0;31m                         hog_channel=hog_channel)\n\u001b[0m\u001b[1;32m     14\u001b[0m notcar_features = extract_features(notcars,spatial_size=spatial_size,\n\u001b[1;32m     15\u001b[0m                         \u001b[0mhist_bins\u001b[0m\u001b[0;34m=\u001b[0m\u001b[0mhist_bins\u001b[0m\u001b[0;34m,\u001b[0m\u001b[0mcolor_space\u001b[0m\u001b[0;34m=\u001b[0m\u001b[0mcolorspace\u001b[0m\u001b[0;34m,\u001b[0m \u001b[0morient\u001b[0m\u001b[0;34m=\u001b[0m\u001b[0morient\u001b[0m\u001b[0;34m,\u001b[0m\u001b[0;34m\u001b[0m\u001b[0m\n",
      "\u001b[0;32m/Users/xiaowang/Desktop/CarND-Vehicle-Detection/src/helper.py\u001b[0m in \u001b[0;36mextract_features\u001b[0;34m(imgs, color_space, spatial_size, hist_bins, orient, pix_per_cell, cell_per_block, hog_channel, spatial_feat, hist_feat, hog_feat)\u001b[0m\n\u001b[1;32m    127\u001b[0m         \u001b[0mfile_features\u001b[0m \u001b[0;34m=\u001b[0m \u001b[0;34m[\u001b[0m\u001b[0;34m]\u001b[0m\u001b[0;34m\u001b[0m\u001b[0m\n\u001b[1;32m    128\u001b[0m         \u001b[0;31m# Read in each one by one\u001b[0m\u001b[0;34m\u001b[0m\u001b[0;34m\u001b[0m\u001b[0m\n\u001b[0;32m--> 129\u001b[0;31m         \u001b[0mimage\u001b[0m \u001b[0;34m=\u001b[0m \u001b[0mmpimg\u001b[0m\u001b[0;34m.\u001b[0m\u001b[0mimread\u001b[0m\u001b[0;34m(\u001b[0m\u001b[0mfile\u001b[0m\u001b[0;34m)\u001b[0m\u001b[0;34m\u001b[0m\u001b[0m\n\u001b[0m\u001b[1;32m    130\u001b[0m         \u001b[0;31m# apply color conversion if other than 'RGB'\u001b[0m\u001b[0;34m\u001b[0m\u001b[0;34m\u001b[0m\u001b[0m\n\u001b[1;32m    131\u001b[0m         \u001b[0;32mif\u001b[0m \u001b[0mcolor_space\u001b[0m \u001b[0;34m!=\u001b[0m \u001b[0;34m'RGB'\u001b[0m\u001b[0;34m:\u001b[0m\u001b[0;34m\u001b[0m\u001b[0m\n",
      "\u001b[0;31mNameError\u001b[0m: name 'mpimg' is not defined"
     ]
    }
   ],
   "source": [
    "colorspace = 'YUV' # Can be RGB, HSV, LUV, HLS, YUV, YCrCb\n",
    "orient = 9\n",
    "pix_per_cell = 8\n",
    "cell_per_block = 2\n",
    "hog_channel = 'ALL' # Can be 0, 1, 2, or \"ALL\"\n",
    "spatial_size=(16, 16)\n",
    "hist_bins=32,\n",
    "\n",
    "t=time.time()\n",
    "car_features = extract_features(cars, spatial_size=spatial_size,\n",
    "                        hist_bins=hist_bins, color_space=colorspace, orient=orient, \n",
    "                        pix_per_cell=pix_per_cell, cell_per_block=cell_per_block, \n",
    "                        hog_channel=hog_channel)\n",
    "notcar_features = extract_features(notcars,spatial_size=spatial_size,\n",
    "                        hist_bins=hist_bins,color_space=colorspace, orient=orient, \n",
    "                        pix_per_cell=pix_per_cell, cell_per_block=cell_per_block, \n",
    "                        hog_channel=hog_channel)\n",
    "t2 = time.time()\n",
    "print(round(t2-t, 2), 'Seconds to extract HOG features...')"
   ]
  },
  {
   "cell_type": "code",
   "execution_count": null,
   "metadata": {
    "collapsed": true
   },
   "outputs": [],
   "source": []
  }
 ],
 "metadata": {
  "kernelspec": {
   "display_name": "Python 3",
   "language": "python",
   "name": "python3"
  },
  "language_info": {
   "codemirror_mode": {
    "name": "ipython",
    "version": 3
   },
   "file_extension": ".py",
   "mimetype": "text/x-python",
   "name": "python",
   "nbconvert_exporter": "python",
   "pygments_lexer": "ipython3",
   "version": "3.5.2"
  },
  "widgets": {
   "state": {},
   "version": "1.1.2"
  }
 },
 "nbformat": 4,
 "nbformat_minor": 2
}
