{
 "cells": [
  {
   "cell_type": "markdown",
   "metadata": {
    "deletable": true,
    "editable": true
   },
   "source": [
    "# Self-Driving Car Engineer Nanodegree\n",
    "\n",
    "## Deep Learning\n",
    "\n",
    "## Project: Build a Traffic Sign Recognition Classifier\n",
    "\n",
    "In this notebook, a template is provided for you to implement your functionality in stages which is required to successfully complete this project. If additional code is required that cannot be included in the notebook, be sure that the Python code is successfully imported and included in your submission, if necessary. Sections that begin with **'Implementation'** in the header indicate where you should begin your implementation for your project. Note that some sections of implementation are optional, and will be marked with **'Optional'** in the header.\n",
    "\n",
    "In addition to implementing code, there will be questions that you must answer which relate to the project and your implementation. Each section where you will answer a question is preceded by a **'Question'** header. Carefully read each question and provide thorough answers in the following text boxes that begin with **'Answer:'**. Your project submission will be evaluated based on your answers to each of the questions and the implementation you provide.\n",
    "\n",
    ">**Note:** Code and Markdown cells can be executed using the **Shift + Enter** keyboard shortcut. In addition, Markdown cells can be edited by typically double-clicking the cell to enter edit mode."
   ]
  },
  {
   "cell_type": "markdown",
   "metadata": {
    "deletable": true,
    "editable": true
   },
   "source": [
    "---\n",
    "## Step 0: Load The Data"
   ]
  },
  {
   "cell_type": "code",
   "execution_count": 24,
   "metadata": {
    "collapsed": false,
    "deletable": true,
    "editable": true
   },
   "outputs": [],
   "source": [
    "# Load pickled data\n",
    "import pickle\n",
    "# TODO: Fill this in based on where you saved the training and testing data\n",
    "\n",
    "training_file = \"train.p\"\n",
    "testing_file = \"test.p\"\n",
    "\n",
    "with open(training_file, mode='rb') as f:\n",
    "    train = pickle.load(f)\n",
    "with open(testing_file, mode='rb') as f:\n",
    "    test = pickle.load(f)\n",
    "    \n",
    "X_train, y_train = train['features'], train['labels']\n",
    "X_test, y_test = test['features'], test['labels']"
   ]
  },
  {
   "cell_type": "markdown",
   "metadata": {
    "deletable": true,
    "editable": true
   },
   "source": [
    "---\n",
    "\n",
    "## Step 1: Dataset Summary & Exploration\n",
    "\n",
    "The pickled data is a dictionary with 4 key/value pairs:\n",
    "\n",
    "- `'features'` is a 4D array containing raw pixel data of the traffic sign images, (num examples, width, height, channels).\n",
    "- `'labels'` is a 1D array containing the label/class id of the traffic sign. The file `signnames.csv` contains id -> name mappings for each id.\n",
    "- `'sizes'` is a list containing tuples, (width, height) representing the the original width and height the image.\n",
    "- `'coords'` is a list containing tuples, (x1, y1, x2, y2) representing coordinates of a bounding box around the sign in the image. **THESE COORDINATES ASSUME THE ORIGINAL IMAGE. THE PICKLED DATA CONTAINS RESIZED VERSIONS (32 by 32) OF THESE IMAGES**\n",
    "\n",
    "Complete the basic data summary below."
   ]
  },
  {
   "cell_type": "code",
   "execution_count": 25,
   "metadata": {
    "collapsed": false,
    "deletable": true,
    "editable": true
   },
   "outputs": [
    {
     "name": "stdout",
     "output_type": "stream",
     "text": [
      "Number of training examples = 39209\n",
      "Number of testing examples = 12630\n",
      "Image data shape = (32, 32, 3)\n",
      "Number of classes = 43\n"
     ]
    }
   ],
   "source": [
    "0### Replace each question mark with the appropriate value.\n",
    "\n",
    "# TODO: Number of training examples\n",
    "n_train = y_train.shape[0]\n",
    "\n",
    "# TODO: Number of testing examples.\n",
    "n_test = y_test.shape[0]\n",
    "\n",
    "# TODO: What's the shape of an traffic sign image?\n",
    "image_shape = X_train[0].shape\n",
    "\n",
    "# TODO: How many unique classes/labels there are in the dataset.\n",
    "n_classes = len(set(y_train))\n",
    "\n",
    "print(\"Number of training examples =\", n_train)\n",
    "print(\"Number of testing examples =\", n_test)\n",
    "print(\"Image data shape =\", image_shape)\n",
    "print(\"Number of classes =\", n_classes)"
   ]
  },
  {
   "cell_type": "markdown",
   "metadata": {
    "deletable": true,
    "editable": true
   },
   "source": [
    "Visualize the German Traffic Signs Dataset using the pickled file(s). This is open ended, suggestions include: plotting traffic sign images, plotting the count of each sign, etc.\n",
    "\n",
    "The [Matplotlib](http://matplotlib.org/) [examples](http://matplotlib.org/examples/index.html) and [gallery](http://matplotlib.org/gallery.html) pages are a great resource for doing visualizations in Python.\n",
    "\n",
    "**NOTE:** It's recommended you start with something simple first. If you wish to do more, come back to it after you've completed the rest of the sections."
   ]
  },
  {
   "cell_type": "code",
   "execution_count": 26,
   "metadata": {
    "collapsed": false,
    "deletable": true,
    "editable": true
   },
   "outputs": [
    {
     "data": {
      "text/plain": [
       "(array([  210.,  2220.,  2250.,  1410.,  1980.,  1860.,   420.,  1440.,\n",
       "         1410.,  1470.,  2010.,  1320.,  2100.,  2160.,   780.,   630.,\n",
       "          420.,  1110.,  1200.,   210.,   360.,   330.,   390.,   510.,\n",
       "          270.,  1500.,   600.,   240.,   540.,   270.,   450.,   780.,\n",
       "          240.,   689.,   420.,  1200.,   390.,   210.,  2070.,   300.,\n",
       "          360.,   240.,   240.]),\n",
       " array([  0.        ,   0.97674419,   1.95348837,   2.93023256,\n",
       "          3.90697674,   4.88372093,   5.86046512,   6.8372093 ,\n",
       "          7.81395349,   8.79069767,   9.76744186,  10.74418605,\n",
       "         11.72093023,  12.69767442,  13.6744186 ,  14.65116279,\n",
       "         15.62790698,  16.60465116,  17.58139535,  18.55813953,\n",
       "         19.53488372,  20.51162791,  21.48837209,  22.46511628,\n",
       "         23.44186047,  24.41860465,  25.39534884,  26.37209302,\n",
       "         27.34883721,  28.3255814 ,  29.30232558,  30.27906977,\n",
       "         31.25581395,  32.23255814,  33.20930233,  34.18604651,\n",
       "         35.1627907 ,  36.13953488,  37.11627907,  38.09302326,\n",
       "         39.06976744,  40.04651163,  41.02325581,  42.        ]),\n",
       " <a list of 43 Patch objects>)"
      ]
     },
     "execution_count": 26,
     "metadata": {},
     "output_type": "execute_result"
    },
    {
     "data": {
      "image/png": "[encoded data removed]",
      "text/plain": [
       "<matplotlib.figure.Figure at 0x7f1363bbf438>"
      ]
     },
     "metadata": {},
     "output_type": "display_data"
    }
   ],
   "source": [
    "### Data exploration visualization goes here.\n",
    "### Feel free to use as many code cells as needed.\n",
    "import matplotlib.pyplot as plt\n",
    "# Visualizations will be shown in the notebook.\n",
    "%matplotlib inline\n",
    "import numpy as np\n",
    "plt.hist(y_train, bins = n_classes)"
   ]
  },
  {
   "cell_type": "markdown",
   "metadata": {
    "deletable": true,
    "editable": true
   },
   "source": [
    "----\n",
    "\n",
    "## Step 2: Design and Test a Model Architecture\n",
    "\n",
    "Design and implement a deep learning model that learns to recognize traffic signs. Train and test your model on the [German Traffic Sign Dataset](http://benchmark.ini.rub.de/?section=gtsrb&subsection=dataset).\n",
    "\n",
    "There are various aspects to consider when thinking about this problem:\n",
    "\n",
    "- Neural network architecture\n",
    "- Play around preprocessing techniques (normalization, rgb to grayscale, etc)\n",
    "- Number of examples per label (some have more than others).\n",
    "- Generate fake data.\n",
    "\n",
    "Here is an example of a [published baseline model on this problem](http://yann.lecun.com/exdb/publis/pdf/sermanet-ijcnn-11.pdf). It's not required to be familiar with the approach used in the paper but, it's good practice to try to read papers like these.\n",
    "\n",
    "**NOTE:** The LeNet-5 implementation shown in the [classroom](https://classroom.udacity.com/nanodegrees/nd013/parts/fbf77062-5703-404e-b60c-95b78b2f3f9e/modules/6df7ae49-c61c-4bb2-a23e-6527e69209ec/lessons/601ae704-1035-4287-8b11-e2c2716217ad/concepts/d4aca031-508f-4e0b-b493-e7b706120f81) at the end of the CNN lesson is a solid starting point. You'll have to change the number of classes and possibly the preprocessing, but aside from that it's plug and play!"
   ]
  },
  {
   "cell_type": "markdown",
   "metadata": {
    "deletable": true,
    "editable": true
   },
   "source": [
    "### Implementation\n",
    "\n",
    "Use the code cell (or multiple code cells, if necessary) to implement the first step of your project. Once you have completed your implementation and are satisfied with the results, be sure to thoroughly answer the questions that follow."
   ]
  },
  {
   "cell_type": "code",
   "execution_count": 148,
   "metadata": {
    "collapsed": false,
    "deletable": true,
    "editable": true
   },
   "outputs": [],
   "source": [
    "import cv2\n",
    "# equalization\n",
    "def preprocess(image):\n",
    "    img = np.copy(image)\n",
    "    clahe = cv2.createCLAHE(clipLimit=1.0, tileGridSize=(2,2))\n",
    "    if len(image.shape) > 2:\n",
    "        dims = 3\n",
    "        for i in range(dims):\n",
    "            img[:,:,i] = clahe.apply(image[:,:,i])\n",
    "    else:\n",
    "        img = clahe.apply(image)\n",
    "    return img\n",
    "import argparse\n",
    "# adjust brightness\n",
    "def adjust_gamma(image, gamma=1.0):\n",
    "\tinvGamma = 1.0 / gamma\n",
    "\ttable = np.array([((i / 255.0) ** invGamma) * 255\n",
    "\t\tfor i in np.arange(0, 256)]).astype(\"uint8\")\n",
    "\treturn cv2.LUT(image, table)"
   ]
  },
  {
   "cell_type": "code",
   "execution_count": 149,
   "metadata": {
    "collapsed": false,
    "deletable": true,
    "editable": true
   },
   "outputs": [
    {
     "name": "stdout",
     "output_type": "stream",
     "text": [
      "(32, 32, 3)\n",
      "<class 'numpy.ndarray'>\n"
     ]
    },
    {
     "data": {
      "text/plain": [
       "<matplotlib.image.AxesImage at 0x7f135af77240>"
      ]
     },
     "execution_count": 149,
     "metadata": {},
     "output_type": "execute_result"
    },
    {
     "data": {
      "image/png": "[encoded data removed]",
      "text/plain": [
       "<matplotlib.figure.Figure at 0x7f12d55959e8>"
      ]
     },
     "metadata": {},
     "output_type": "display_data"
    },
    {
     "data": {
      "image/png": "[encoded data removed]",
      "text/plain": [
       "<matplotlib.figure.Figure at 0x7f12d4319dd8>"
      ]
     },
     "metadata": {},
     "output_type": "display_data"
    }
   ],
   "source": [
    "### Preprocess the data here.\n",
    "### Feel free to use as many code cells as needed.\n",
    "import random\n",
    "index = random.randint(0, len(X_train))\n",
    "index_1 = random.randint(0, len(X_train))\n",
    "image = X_train[index].squeeze()\n",
    "image_1 = X_train[index_1].squeeze()\n",
    "print(image.shape)\n",
    "fig = plt.figure(figsize=(2,2))\n",
    "a=fig.add_subplot(1,2,1)\n",
    "plt.imshow(image)\n",
    "a=fig.add_subplot(1,2,2)\n",
    "plt.imshow(image_1)\n",
    "\n",
    "img =adjust_gamma(image,1.5)\n",
    "print(type(img))\n",
    "plt.figure()\n",
    "plt.imshow(img)"
   ]
  },
  {
   "cell_type": "code",
   "execution_count": 29,
   "metadata": {
    "collapsed": false,
    "deletable": true,
    "editable": true
   },
   "outputs": [],
   "source": [
    "# random shift and rotate of images\n",
    "def random_change(img, rse):\n",
    "    # add rotate\n",
    "    cols, rows, channel = img.shape\n",
    "    if random.random() < rse:\n",
    "        theta = random.random()*30-15\n",
    "        M = cv2.getRotationMatrix2D((cols/2,rows/2),theta,1)\n",
    "        img = cv2.warpAffine(img,M,(cols,rows))\n",
    "    if random.random() < rse:\n",
    "        col = random.choice(range(-5,5))\n",
    "        row = random.choice(range(-5,5))\n",
    "        M = np.float32([[1,0,col],[0,1,row]])\n",
    "        img = cv2.warpAffine(img,M,(cols,rows))\n",
    "    return img"
   ]
  },
  {
   "cell_type": "code",
   "execution_count": 30,
   "metadata": {
    "collapsed": false,
    "deletable": true,
    "editable": true
   },
   "outputs": [],
   "source": [
    "import collections\n",
    "augment_set = []\n",
    "label_count = collections.Counter(y_train)\n",
    "for key in label_count.keys():\n",
    "    if label_count[key] < 500:\n",
    "        augment_set.append(key)\n",
    "\n",
    "origin_len = len(X_train)\n",
    "new_x = []\n",
    "new_y = []\n",
    "# generate more with different brightness\n",
    "for i in range(origin_len):\n",
    "    if y_train[i] in augment_set:\n",
    "        gamma = random.random()*2+0.5\n",
    "        img = adjust_gamma(X_train[i], gamma)\n",
    "        new_x.append(img)\n",
    "        new_y.append(y_train[i])\n",
    "# generate more with random shift and rotate\n",
    "for i in range(origin_len):\n",
    "    if y_train[i] in augment_set:\n",
    "        if random.random() < 0.9:\n",
    "            img = random_change(X_train[i], 0.85)\n",
    "            new_x.append(img)\n",
    "            new_y.append(y_train[i])"
   ]
  },
  {
   "cell_type": "code",
   "execution_count": 31,
   "metadata": {
    "collapsed": false,
    "deletable": true,
    "editable": true
   },
   "outputs": [
    {
     "name": "stdout",
     "output_type": "stream",
     "text": [
      "training size after the augment: 50562\n"
     ]
    }
   ],
   "source": [
    "# extend new generated images to original training set\n",
    "X_train = list(X_train)\n",
    "y_train = list(y_train)\n",
    "X_train.extend(new_x)\n",
    "y_train.extend(new_y)\n",
    "print(\"training size after the augment: {}\".format(len(X_train)))"
   ]
  },
  {
   "cell_type": "code",
   "execution_count": 32,
   "metadata": {
    "collapsed": false,
    "deletable": true,
    "editable": true
   },
   "outputs": [
    {
     "name": "stdout",
     "output_type": "stream",
     "text": [
      "(50562, 32, 32, 3)\n"
     ]
    }
   ],
   "source": [
    "X_train = np.array(X_train)\n",
    "y_train = np.array(y_train)\n",
    "print(X_train.shape)"
   ]
  },
  {
   "cell_type": "markdown",
   "metadata": {
    "deletable": true,
    "editable": true
   },
   "source": [
    "### Question 1 \n",
    "\n",
    "_Describe how you preprocessed the data. Why did you choose that technique?_"
   ]
  },
  {
   "cell_type": "markdown",
   "metadata": {
    "deletable": true,
    "editable": true
   },
   "source": [
    "**Answer:**\n",
    "I tried several preprocessing methods, including normalization, equalization and "
   ]
  },
  {
   "cell_type": "code",
   "execution_count": 33,
   "metadata": {
    "collapsed": true,
    "deletable": true,
    "editable": true
   },
   "outputs": [],
   "source": [
    "### Generate additional data (OPTIONAL!)\n",
    "### and split the data into training/validation/testing sets here.\n",
    "### Feel free to use as many code cells as needed.\n",
    "from sklearn.utils import shuffle\n",
    "from sklearn.model_selection import train_test_split\n",
    "X_train, X_validation, y_train, y_validation = train_test_split(X_train, y_train, test_size = 0.10, random_state = 15)"
   ]
  },
  {
   "cell_type": "markdown",
   "metadata": {
    "deletable": true,
    "editable": true
   },
   "source": [
    "### Question 2\n",
    "\n",
    "_Describe how you set up the training, validation and testing data for your model. **Optional**: If you generated additional data, how did you generate the data? Why did you generate the data? What are the differences in the new dataset (with generated data) from the original dataset?_"
   ]
  },
  {
   "cell_type": "markdown",
   "metadata": {
    "deletable": true,
    "editable": true
   },
   "source": [
    "**Answer:**\n",
    "The test set is just the test set of original data. I split the original training set into two parts, 90% becomes true training set, and the other 10% is validation set. Yes, I generated additional data. I chose signs with count less than 500, and change the brightness of images among those signs. The original dataset is unbalanced, range from 200-2000, which is not good for training, within each batch, we may have no training sample of those signs with count less than 500. There are two ways to overcome this, one way is to sample signs within each batch according to the ratio of each sign among the total set. Another way is to generate more images for those signs. I chose the later one and change the brightness of those images to avoid duplicate. Also I add some shift and rotate to images during the training, the shift magnitute decreased with time."
   ]
  },
  {
   "cell_type": "code",
   "execution_count": 34,
   "metadata": {
    "collapsed": true,
    "deletable": true,
    "editable": true
   },
   "outputs": [],
   "source": [
    "### Define your architecture here.\n",
    "### Feel free to use as many code cells as needed.\n",
    "import tensorflow as tf\n",
    "BATCH_SIZE = 128"
   ]
  },
  {
   "cell_type": "code",
   "execution_count": 146,
   "metadata": {
    "collapsed": false,
    "deletable": true,
    "editable": true
   },
   "outputs": [],
   "source": [
    "from tensorflow.contrib.layers import flatten \n",
    "import math\n",
    "\n",
    "def LeNet(x, drop_out):\n",
    "    mu = 0\n",
    "    sigma = 0.05\n",
    "    \n",
    "    # Layer one input size 32*32*3  output size 28*28*15\n",
    "    conv1_W = tf.Variable(tf.truncated_normal(shape = (5,5,3,15), mean = mu, stddev = sigma))\n",
    "    conv1_b = tf.Variable(tf.zeros(15))\n",
    "    conv1 = tf.nn.conv2d(x, conv1_W, strides=[1,1,1,1], padding='VALID')+conv1_b\n",
    "    \n",
    "    covn1 = tf.nn.relu(conv1)\n",
    "\n",
    "    conv1 = tf.nn.max_pool(conv1, ksize = [1,2,2,1], strides = [1,2,2,1], padding='VALID')\n",
    "    conv1 = tf.nn.dropout(conv1, drop_out)\n",
    "\n",
    "#     conv1_W_1 = tf.Variable(tf.truncated_normal(shape = (5,5,3,6), mean = mu, stddev = math.sqrt(2.0/75)))\n",
    "#     conv1_b_1 = tf.Variable(tf.zeros(6))\n",
    "#     conv1_1 = tf.nn.conv2d(x, conv1_W_1, strides=[1,1,1,1], padding='SAME')+conv1_b_1\n",
    "#     covn1_1 = tf.nn.relu(conv1_1)\n",
    "#     conv1_1 = tf.nn.dropout(conv1_1, drop_out)\n",
    "    \n",
    "#     conv1_W_2 = tf.Variable(tf.truncated_normal(shape = (3,3,3,6), mean = mu, stddev = math.sqrt(2.0/27)))\n",
    "#     conv1_b_2 = tf.Variable(tf.zeros(6))\n",
    "#     conv1_2 = tf.nn.conv2d(x, conv1_W_2, strides=[1,1,1,1], padding='SAME')+conv1_b_2\n",
    "#     covn1_2 = tf.nn.relu(conv1_2)\n",
    "#     conv1_2 = tf.nn.dropout(conv1_1, drop_out)\n",
    "    \n",
    "#     conv1_W_3 = tf.Variable(tf.truncated_normal(shape = (1,1,3,3), mean = mu, stddev = math.sqrt(2.0/3)))\n",
    "#     conv1_b_3 = tf.Variable(tf.zeros(3))\n",
    "#     conv1_3 = tf.nn.conv2d(x, conv1_W_3, strides=[1,1,1,1], padding='SAME')+conv1_b_3\n",
    "#     covn1_3 = tf.nn.relu(conv1_3)\n",
    "    \n",
    "#     conv1_4 = tf.nn.max_pool(x, ksize = [1,2,2,1], strides = [1,1,1,1], padding='SAME')\n",
    "    \n",
    "#     conv1 = tf.concat(3,[conv1_1,conv1_2,conv1_3,conv1_4])\n",
    "    \n",
    "#     covn1 = tf.nn.relu(conv1)\n",
    "#     conv1 = tf.nn.max_pool(conv1, ksize = [1,2,2,1], strides = [1,2,2,1], padding='VALID')\n",
    "\n",
    "    #   Layer2  28x28x15 to 26x26x20 to 13x13*20\n",
    "    conv2_W = tf.Variable(tf.truncated_normal(shape = (3,3,15,20), mean = mu, stddev = sigma))\n",
    "    conv2_b = tf.Variable(tf.zeros(20))\n",
    "    conv2 = tf.nn.conv2d(conv1, conv2_W, strides=[1,1,1,1], padding='VALID')+conv2_b\n",
    "    \n",
    "    conv2 = tf.nn.relu(conv2)\n",
    "    conv2 = tf.nn.max_pool(conv2, ksize = [1,2,2,1], strides = [1,2,2,1], padding='VALID')\n",
    "    conv2 = tf.nn.dropout(conv2, drop_out)\n",
    "\n",
    "    #   Layer3  28x28x15 to 24x24x20 to 12x12*20\n",
    "    conv3_W = tf.Variable(tf.truncated_normal(shape = (5,5,15,20), mean = mu, stddev = sigma))\n",
    "    conv3_b = tf.Variable(tf.zeros(20))\n",
    "    conv3 = tf.nn.conv2d(conv1, conv3_W, strides=[1,1,1,1], padding='VALID')+conv3_b\n",
    "    \n",
    "    conv3 = tf.nn.relu(conv3)\n",
    "    conv3 = tf.nn.max_pool(conv3, ksize = [1,2,2,1], strides = [1,2,2,1], padding='VALID')\n",
    "    conv3 = tf.nn.dropout(conv3, drop_out)\n",
    "\n",
    "    # concatenation\n",
    "    fc0_1 = flatten(conv3)\n",
    "    fc0_2 = flatten(conv2)\n",
    "    fc0 = tf.concat(1,[fc0_1,fc0_2])\n",
    "    \n",
    "    # fully connected layer\n",
    "    fc1_W = tf.Variable(tf.truncated_normal(shape=(1220,800), mean=mu, stddev= sigma))\n",
    "    fc1_b = tf.Variable(tf.zeros(800))\n",
    "    fc1 = tf.add(tf.matmul(fc0, fc1_W), fc1_b)\n",
    "    \n",
    "    fc1 = tf.nn.relu(fc1)\n",
    "    \n",
    "    fc1 = tf.nn.dropout(fc1, drop_out)\n",
    "    # second fully connected layer\n",
    "    fc2_W = tf.Variable(tf.truncated_normal(shape=(800,300), mean=mu, stddev=sigma))\n",
    "    fc2_b = tf.Variable(tf.zeros(300))\n",
    "    fc2 = tf.add(tf.matmul(fc1, fc2_W), fc2_b)\n",
    "    \n",
    "    fc2 = tf.nn.relu(fc2)\n",
    "    fc2 = tf.nn.dropout(fc2, drop_out)\n",
    "    \n",
    "    fc3_W = tf.Variable(tf.truncated_normal(shape=(300,43), mean=mu, stddev=sigma))\n",
    "    fc3_b = tf.Variable(tf.zeros(43))\n",
    "    logits = tf.add(tf.matmul(fc2, fc3_W), fc3_b)\n",
    "    \n",
    "    return logits"
   ]
  },
  {
   "cell_type": "markdown",
   "metadata": {
    "deletable": true,
    "editable": true
   },
   "source": [
    "### Question 3\n",
    "\n",
    "_What does your final architecture look like? (Type of model, layers, sizes, connectivity, etc.)  For reference on how to build a deep neural network using TensorFlow, see [Deep Neural Network in TensorFlow\n",
    "](https://classroom.udacity.com/nanodegrees/nd013/parts/fbf77062-5703-404e-b60c-95b78b2f3f9e/modules/6df7ae49-c61c-4bb2-a23e-6527e69209ec/lessons/b516a270-8600-4f93-a0a3-20dfeabe5da6/concepts/83a3a2a2-a9bd-4b7b-95b0-eb924ab14432) from the classroom._\n"
   ]
  },
  {
   "cell_type": "markdown",
   "metadata": {
    "deletable": true,
    "editable": true
   },
   "source": [
    "**Answer:**\n",
    "\n",
    "The architecture I used is similar to the LeNet. It is a feedforward neural net, with 3 convolutional layers and 3 fully connnected layers, but the last two CNN layers were used like Inception Module, they both use the output of first CNN layer and their outputs were concatenated. To avoid overfitting, I also added two dropout layer between fully connected layers. At first conv layer, I utilized 15 filters with size 5x5x3, the second layer contains 20 filters with size 3x3x12, the third layer contains 20 filters with size 5x5x12. Note that there are also maxpooling layers after the conv layer. After flatten, the vector fed into fully connected layer has size 1220, then the second layer has length 800, and then 300, finnaly output 43 softmax results."
   ]
  },
  {
   "cell_type": "code",
   "execution_count": 103,
   "metadata": {
    "collapsed": false,
    "deletable": true,
    "editable": true
   },
   "outputs": [],
   "source": [
    "### Train your model here.\n",
    "### Feel free to use as many code cells as needed\n",
    "x = tf.placeholder(tf.float32, (None,32,32,3))\n",
    "y = tf.placeholder(tf.int32, (None))\n",
    "one_hot_y = tf.one_hot(y, 43)\n",
    "keep_prob = tf.placeholder(tf.float32)"
   ]
  },
  {
   "cell_type": "code",
   "execution_count": 110,
   "metadata": {
    "collapsed": false,
    "deletable": true,
    "editable": true
   },
   "outputs": [],
   "source": [
    "\n",
    "global_step = tf.Variable(0, trainable=False)\n",
    "# learning rate decay\n",
    "starter_learning_rate = 0.001\n",
    "learning_rate = tf.train.exponential_decay(starter_learning_rate, global_step,\n",
    "                                           3500, 0.50, staircase=True)\n",
    "\n",
    "\n",
    "logits = LeNet(x, keep_prob)\n",
    "cross_entropy = tf.nn.softmax_cross_entropy_with_logits(logits, one_hot_y)\n",
    "loss_operation = tf.reduce_mean(cross_entropy)\n",
    "optimizer = tf.train.AdamOptimizer(learning_rate=learning_rate)\n",
    "train_operation = optimizer.minimize(loss_operation, global_step=global_step)"
   ]
  },
  {
   "cell_type": "code",
   "execution_count": 150,
   "metadata": {
    "collapsed": true,
    "deletable": true,
    "editable": true
   },
   "outputs": [],
   "source": [
    "correct_prediction = tf.equal(tf.argmax(logits, 1), tf.argmax(one_hot_y, 1))\n",
    "accuracy_operation = tf.reduce_mean(tf.cast(correct_prediction, tf.float32))\n",
    "saver = tf.train.Saver()\n",
    "# evaluation\n",
    "def evaluate(X_data, y_data):\n",
    "    num_examples = len(X_data)\n",
    "    total_accuracy = 0\n",
    "    sess = tf.get_default_session()\n",
    "    for offset in range(0, num_examples, BATCH_SIZE):\n",
    "        batch_x, batch_y = X_data[offset:(offset + BATCH_SIZE)], y_data[offset:(offset+BATCH_SIZE)]\n",
    "        accuracy = sess.run(accuracy_operation, feed_dict={x:batch_x, y:batch_y, keep_prob:1})\n",
    "        total_accuracy += (accuracy * len(batch_x))\n",
    "    return total_accuracy/num_examples"
   ]
  },
  {
   "cell_type": "code",
   "execution_count": 116,
   "metadata": {
    "collapsed": false,
    "deletable": true,
    "editable": true
   },
   "outputs": [
    {
     "name": "stdout",
     "output_type": "stream",
     "text": [
      "Train...\n",
      "\n",
      "EPOCH 1 ...\n",
      "Validation accuracy 0.554\n",
      "EPOCH 2 ...\n",
      "Validation accuracy 0.750\n",
      "EPOCH 3 ...\n",
      "Validation accuracy 0.858\n",
      "EPOCH 4 ...\n",
      "Validation accuracy 0.904\n",
      "EPOCH 5 ...\n",
      "Validation accuracy 0.924\n",
      "EPOCH 6 ...\n",
      "Validation accuracy 0.946\n",
      "EPOCH 7 ...\n",
      "Validation accuracy 0.957\n",
      "EPOCH 8 ...\n",
      "Validation accuracy 0.960\n",
      "EPOCH 9 ...\n",
      "Validation accuracy 0.968\n",
      "EPOCH 10 ...\n",
      "Validation accuracy 0.976\n",
      "EPOCH 11 ...\n",
      "Validation accuracy 0.984\n",
      "EPOCH 12 ...\n",
      "Validation accuracy 0.985\n",
      "EPOCH 13 ...\n",
      "Validation accuracy 0.982\n",
      "EPOCH 14 ...\n",
      "Validation accuracy 0.986\n",
      "EPOCH 15 ...\n",
      "Validation accuracy 0.991\n",
      "EPOCH 16 ...\n",
      "Validation accuracy 0.987\n",
      "EPOCH 17 ...\n",
      "Validation accuracy 0.974\n",
      "EPOCH 18 ...\n",
      "Validation accuracy 0.991\n",
      "EPOCH 19 ...\n",
      "Validation accuracy 0.991\n",
      "EPOCH 20 ...\n",
      "Validation accuracy 0.992\n",
      "EPOCH 21 ...\n",
      "Validation accuracy 0.993\n",
      "EPOCH 22 ...\n",
      "Validation accuracy 0.995\n",
      "EPOCH 23 ...\n",
      "Validation accuracy 0.994\n",
      "EPOCH 24 ...\n",
      "Validation accuracy 0.996\n",
      "EPOCH 25 ...\n",
      "Validation accuracy 0.994\n",
      "EPOCH 26 ...\n",
      "Validation accuracy 0.994\n",
      "EPOCH 27 ...\n",
      "Validation accuracy 0.994\n",
      "EPOCH 28 ...\n",
      "Validation accuracy 0.995\n",
      "EPOCH 29 ...\n",
      "Validation accuracy 0.996\n",
      "EPOCH 30 ...\n",
      "Validation accuracy 0.996\n",
      "EPOCH 31 ...\n",
      "Validation accuracy 0.997\n",
      "EPOCH 32 ...\n",
      "Validation accuracy 0.997\n",
      "EPOCH 33 ...\n",
      "Validation accuracy 0.997\n",
      "EPOCH 34 ...\n",
      "Validation accuracy 0.997\n",
      "EPOCH 35 ...\n",
      "Validation accuracy 0.998\n",
      "EPOCH 36 ...\n",
      "Validation accuracy 0.996\n",
      "EPOCH 37 ...\n",
      "Validation accuracy 0.997\n",
      "EPOCH 38 ...\n",
      "Validation accuracy 0.997\n",
      "EPOCH 39 ...\n",
      "Validation accuracy 0.996\n",
      "EPOCH 40 ...\n",
      "Validation accuracy 0.997\n",
      "EPOCH 41 ...\n",
      "Validation accuracy 0.997\n",
      "EPOCH 42 ...\n",
      "Validation accuracy 0.998\n",
      "EPOCH 43 ...\n",
      "Validation accuracy 0.998\n",
      "model saved\n"
     ]
    }
   ],
   "source": [
    "EPOCHS = 43\n",
    "random.seed(18)\n",
    "\n",
    "with tf.Session(config=tf.ConfigProto(log_device_placement=True)) as sess:\n",
    "    sess.run(tf.global_variables_initializer())\n",
    "    \n",
    "    num_examples = len(X_train)\n",
    "    print(\"Train...\")\n",
    "    \n",
    "    print()\n",
    "    rse = 0.30\n",
    "    for i in range(EPOCHS):\n",
    "        X_train, y_train = shuffle(X_train, y_train)\n",
    "        for offset in range(0, num_examples, BATCH_SIZE):\n",
    "            end = offset+BATCH_SIZE\n",
    "            batch_x, batch_y = X_train[offset:end],y_train[offset:end]\n",
    "            newbatch = []\n",
    "            for j in range(len(batch_x)):\n",
    "                newbatch.append(random_change(batch_x[j,:,:,:], rse))\n",
    "            newbatch = np.array(newbatch)\n",
    "            sess.run(train_operation, feed_dict={x:newbatch,y:batch_y,keep_prob:0.72})\n",
    "        validation_accuracy = evaluate(X_validation, y_validation)\n",
    "        print(\"EPOCH {} ...\".format(i+1))\n",
    "        print(\"Validation accuracy {:.3f}\".format(validation_accuracy))\n",
    "        rse = rse*0.90\n",
    "    saver.save(sess, './lenet')\n",
    "    print(\"model saved\")"
   ]
  },
  {
   "cell_type": "code",
   "execution_count": 117,
   "metadata": {
    "collapsed": false,
    "deletable": true,
    "editable": true
   },
   "outputs": [
    {
     "name": "stdout",
     "output_type": "stream",
     "text": [
      "Test Accuracy = 0.963\n"
     ]
    }
   ],
   "source": [
    "with tf.Session() as sess:\n",
    "    saver.restore(sess, tf.train.latest_checkpoint('.'))\n",
    "    \n",
    "    test_accuracy = evaluate(X_test, y_test)\n",
    "    print(\"Test Accuracy = {:.3f}\".format(test_accuracy))"
   ]
  },
  {
   "cell_type": "markdown",
   "metadata": {
    "deletable": true,
    "editable": true
   },
   "source": [
    "### Question 4\n",
    "\n",
    "_How did you train your model? (Type of optimizer, batch size, epochs, hyperparameters, etc.)_\n"
   ]
  },
  {
   "cell_type": "markdown",
   "metadata": {
    "deletable": true,
    "editable": true
   },
   "source": [
    "**Answer:** \n",
    "\n",
    "The optimizer I used is adam optimizer, with constant learning rate 0.001, and I utilized learning rate decay, it decrease to 50 percent of original learning rate every 3500 steps(we totally have aroud 16000 steps). The batch size is 128, 40 epochs. I tried several dropout ratios for the dropout layer, the best choice is 0.7, this can decrease the influence of overfitting. At first, I also tried flip the image horizontally, but that doesn't help, this may due to the reason that traffic signs don't have the flip invariant property. But we may shift the image. Also I tried to utilized inception module and batch normalization, but it seems very hard to train those on this data set because of the low resolution and limited training samples."
   ]
  },
  {
   "cell_type": "markdown",
   "metadata": {
    "deletable": true,
    "editable": true
   },
   "source": [
    "### Question 5\n",
    "\n",
    "\n",
    "_What approach did you take in coming up with a solution to this problem? It may have been a process of trial and error, in which case, outline the steps you took to get to the final solution and why you chose those steps. Perhaps your solution involved an already well known implementation or architecture. In this case, discuss why you think this is suitable for the current problem._"
   ]
  },
  {
   "cell_type": "markdown",
   "metadata": {
    "deletable": true,
    "editable": true
   },
   "source": [
    "**Answer:**\n",
    "The goal of this project is similar tio MNIST, and images have the same size, thus I chose to use Lenet as basic structure. But, this time we have 43 labels, which is much larger than 10. Thus we should modify the structure a little to enlarge the capacity of the network. But it is difficult to tell how large should we add, so we have to try and use the dropout layer to avoid possible overfitting problems. Another different between this project and MNIST is that the distribution of signs is much more skewed, the learner may tended to be good at signs with large amount, but performs bad on signs with small count. So I just chose to augment the original dataset. Also the image's light condition are very different, we also need some preprocessing like equalization. For choosing hyperparameters, we can use cross validation, but that spent a lot of time. Here, I just used approaches similar to grid search."
   ]
  },
  {
   "cell_type": "markdown",
   "metadata": {
    "deletable": true,
    "editable": true
   },
   "source": [
    "---\n",
    "\n",
    "## Step 3: Test a Model on New Images\n",
    "\n",
    "Take several pictures of traffic signs that you find on the web or around you (at least five), and run them through your classifier on your computer to produce example results. The classifier might not recognize some local signs but it could prove interesting nonetheless.\n",
    "\n",
    "You may find `signnames.csv` useful as it contains mappings from the class id (integer) to the actual sign name."
   ]
  },
  {
   "cell_type": "markdown",
   "metadata": {
    "deletable": true,
    "editable": true
   },
   "source": [
    "### Implementation\n",
    "\n",
    "Use the code cell (or multiple code cells, if necessary) to implement the first step of your project. Once you have completed your implementation and are satisfied with the results, be sure to thoroughly answer the questions that follow."
   ]
  },
  {
   "cell_type": "code",
   "execution_count": 10,
   "metadata": {
    "collapsed": true,
    "deletable": true,
    "editable": true
   },
   "outputs": [],
   "source": [
    "os.chdir(\"/home/zhaocheng/Desktop/CarND-Traffic-Sign-Classifier-Project\")"
   ]
  },
  {
   "cell_type": "code",
   "execution_count": 138,
   "metadata": {
    "collapsed": false,
    "deletable": true,
    "editable": true
   },
   "outputs": [],
   "source": [
    "### Load the images and plot them here.\n",
    "### Feel free to use as many code cells as needed.\n",
    "import glob, os\n",
    "os.chdir(\"./test_images/\")\n",
    "files = glob.glob(\"*cropped.jpg\")\n",
    "images = [] # store the test images"
   ]
  },
  {
   "cell_type": "code",
   "execution_count": 139,
   "metadata": {
    "collapsed": false,
    "deletable": true,
    "editable": true
   },
   "outputs": [
    {
     "name": "stderr",
     "output_type": "stream",
     "text": [
      "/home/zhaocheng/anaconda3/envs/carnd-term1/lib/python3.5/site-packages/ipykernel/__main__.py:9: VisibleDeprecationWarning: using a non-integer number instead of an integer will result in an error in the future\n",
      "/home/zhaocheng/anaconda3/envs/carnd-term1/lib/python3.5/site-packages/ipykernel/__main__.py:10: VisibleDeprecationWarning: using a non-integer number instead of an integer will result in an error in the future\n"
     ]
    },
    {
     "data": {
      "image/png": "[encoded data removed]",
      "text/plain": [
       "<matplotlib.figure.Figure at 0x7f12cce869b0>"
      ]
     },
     "metadata": {},
     "output_type": "display_data"
    }
   ],
   "source": [
    "## draw the plot\n",
    "f, axarr = plt.subplots(2, 5)\n",
    "for i in range(len(files)):\n",
    "    row = i/5\n",
    "    col = i%5\n",
    "    img = cv2.imread(files[i])\n",
    "    images.append(img)\n",
    "    img[:,:,0],img[:,:,2],img[:,:,1] = img[:,:,0], img[:,:,1],img[:,:,2]\n",
    "    axarr[row,col].imshow(img)\n",
    "    axarr[row,col].set_title(files[i].split(\"_\")[0])\n",
    "plt.show()\n",
    "images = np.array(images)\n",
    "os.chdir(\"../\")"
   ]
  },
  {
   "cell_type": "code",
   "execution_count": 140,
   "metadata": {
    "collapsed": false,
    "deletable": true,
    "editable": true
   },
   "outputs": [],
   "source": [
    "## There is some bugs in plt.imshow() above, but the value is right, no influence on the model testing part."
   ]
  },
  {
   "cell_type": "markdown",
   "metadata": {
    "deletable": true,
    "editable": true
   },
   "source": [
    "### Question 6\n",
    "\n",
    "_Choose five candidate images of traffic signs and provide them in the report. Are there any particular qualities of the image(s) that might make classification difficult? It could be helpful to plot the images in the notebook._\n",
    "\n"
   ]
  },
  {
   "cell_type": "markdown",
   "metadata": {
    "deletable": true,
    "editable": true
   },
   "source": [
    "**Answer:**\n",
    "I choose ten images from the google. Then I cropped and resize them into 32x32 to fit in the network input. The details of the images is summarized as follows:\n",
    "\n",
    "| Index | Description   | Mapping |\n",
    "|-------|---------------| --------|\n",
    "|   1   | double curve  |      21 |\n",
    "|   2   | speed limit 30|      1  |\n",
    "|   3   | stop       |      14 |\n",
    "|   4   | general caution       |      18 |\n",
    "|   5   | wild animal cross      |      31 |\n",
    "|   6   | road work     |      25 |\n",
    "|   7   | priority road       |      12 |\n",
    "|   8   | yield       |      13 |\n",
    "|   9   | turn right ahead       |      33 |\n",
    "|   10  | keep left      |      39 |\n",
    "\n",
    "The first difficulty is the low resolution of the image, it is hard to tell the signs if by human's eyes. Another difficulty is that I may download different signs from the trainging files, such as the shape of the sign, we don't have that large trainging set, so it may have some problems in generalizing to images found by myself. "
   ]
  },
  {
   "cell_type": "code",
   "execution_count": 141,
   "metadata": {
    "collapsed": false,
    "deletable": true,
    "editable": true
   },
   "outputs": [],
   "source": [
    "### Run the predictions here.\n",
    "### Feel free to use as many code cells as needed.\n",
    "with tf.Session() as sess:\n",
    "    saver.restore(sess, tf.train.latest_checkpoint('.'))\n",
    "    new_pics_classes = sess.run(logits, feed_dict={x: images, keep_prob : 1.0})\n",
    "    predictions = tf.nn.softmax(new_pics_classes)\n",
    "    probs = sess.run(predictions)"
   ]
  },
  {
   "cell_type": "code",
   "execution_count": 142,
   "metadata": {
    "collapsed": false,
    "deletable": true,
    "editable": true
   },
   "outputs": [
    {
     "name": "stdout",
     "output_type": "stream",
     "text": [
      "[35  1 14 18 31 25 40 13 14  2]\n"
     ]
    }
   ],
   "source": [
    "print(np.argmax(probs, 1))"
   ]
  },
  {
   "cell_type": "markdown",
   "metadata": {
    "deletable": true,
    "editable": true
   },
   "source": [
    "### Question 7\n",
    "\n",
    "_Is your model able to perform equally well on captured pictures when compared to testing on the dataset? The simplest way to do this check the accuracy of the predictions. For example, if the model predicted 1 out of 5 signs correctly, it's 20% accurate._\n",
    "\n",
    "_**NOTE:** You could check the accuracy manually by using `signnames.csv` (same directory). This file has a mapping from the class id (0-42) to the corresponding sign name. So, you could take the class id the model outputs, lookup the name in `signnames.csv` and see if it matches the sign from the image._\n"
   ]
  },
  {
   "cell_type": "markdown",
   "metadata": {
    "deletable": true,
    "editable": true
   },
   "source": [
    "**Answer:**\n",
    "\n",
    "| Index | True Label   | Predicted Label | Match|\n",
    "|-------|---------------| --------|-----------|\n",
    "|   1   | double curve  | roundanout mandatoory | False|\n",
    "|   2   | speed limit 30|  speed limit 30  | True|\n",
    "|   3   | stop       |  stop | True|\n",
    "|   4   | general caution   |  general caution | True|\n",
    "|   5   | wild animal cross        |wild animal cross   | True|\n",
    "|   6   | road work     |   road work | True|\n",
    "|   7   | priority road   |  roundaround mandatory | False|\n",
    "|   8   | yield       |     yield | True|\n",
    "|   9   | turn right ahead       |  stop | False|\n",
    "|   10   | keep left       |  spped limit 50 | False|\n",
    "\n",
    "It performs not bad at the test images even with the difficulties mentioned in Question6, the accuracy is 60%, it is far from the accury got on the test set. We may find other ways to generalize our models by enlarging dataset."
   ]
  },
  {
   "cell_type": "code",
   "execution_count": 143,
   "metadata": {
    "collapsed": true,
    "deletable": true,
    "editable": true
   },
   "outputs": [],
   "source": [
    "### Visualize the softmax probabilities here.\n",
    "### Feel free to use as many code cells as needed.\n",
    "with tf.Session() as sess:\n",
    "    predicts = sess.run(tf.nn.top_k(probs, k=5, sorted=True))"
   ]
  },
  {
   "cell_type": "markdown",
   "metadata": {
    "deletable": true,
    "editable": true
   },
   "source": [
    "### Question 8\n",
    "\n",
    "*Use the model's softmax probabilities to visualize the **certainty** of its predictions, [`tf.nn.top_k`](https://www.tensorflow.org/versions/r0.12/api_docs/python/nn.html#top_k) could prove helpful here. Which predictions is the model certain of? Uncertain? If the model was incorrect in its initial prediction, does the correct prediction appear in the top k? (k should be 5 at most)*\n",
    "\n",
    "`tf.nn.top_k` will return the values and indices (class ids) of the top k predictions. So if k=3, for each sign, it'll return the 3 largest probabilities (out of a possible 43) and the correspoding class ids.\n",
    "\n",
    "Take this numpy array as an example:\n",
    "\n",
    "```\n",
    "# (5, 6) array\n",
    "a = np.array([[ 0.24879643,  0.07032244,  0.12641572,  0.34763842,  0.07893497,\n",
    "         0.12789202],\n",
    "       [ 0.28086119,  0.27569815,  0.08594638,  0.0178669 ,  0.18063401,\n",
    "         0.15899337],\n",
    "       [ 0.26076848,  0.23664738,  0.08020603,  0.07001922,  0.1134371 ,\n",
    "         0.23892179],\n",
    "       [ 0.11943333,  0.29198961,  0.02605103,  0.26234032,  0.1351348 ,\n",
    "         0.16505091],\n",
    "       [ 0.09561176,  0.34396535,  0.0643941 ,  0.16240774,  0.24206137,\n",
    "         0.09155967]])\n",
    "```\n",
    "\n",
    "Running it through `sess.run(tf.nn.top_k(tf.constant(a), k=3))` produces:\n",
    "\n",
    "```\n",
    "TopKV2(values=array([[ 0.34763842,  0.24879643,  0.12789202],\n",
    "       [ 0.28086119,  0.27569815,  0.18063401],\n",
    "       [ 0.26076848,  0.23892179,  0.23664738],\n",
    "       [ 0.29198961,  0.26234032,  0.16505091],\n",
    "       [ 0.34396535,  0.24206137,  0.16240774]]), indices=array([[3, 0, 5],\n",
    "       [0, 1, 4],\n",
    "       [0, 5, 1],\n",
    "       [1, 3, 5],\n",
    "       [1, 4, 3]], dtype=int32))\n",
    "```\n",
    "\n",
    "Looking just at the first row we get `[ 0.34763842,  0.24879643,  0.12789202]`, you can confirm these are the 3 largest probabilities in `a`. You'll also notice `[3, 0, 5]` are the corresponding indices."
   ]
  },
  {
   "cell_type": "code",
   "execution_count": 144,
   "metadata": {
    "collapsed": false,
    "deletable": true,
    "editable": true
   },
   "outputs": [
    {
     "name": "stdout",
     "output_type": "stream",
     "text": [
      "double probabilities: [ 0.49793634  0.26517856  0.07042539  0.06855857  0.05280263] \n",
      " and predicted classes: [35 37 33 34 39]\n",
      "limit probabilities: [  9.99998093e-01   1.56571127e-06   2.43564443e-07   9.69512683e-08\n",
      "   5.43100398e-10] \n",
      " and predicted classes: [1 2 0 5 3]\n",
      "stop probabilities: [  1.00000000e+00   3.74257674e-08   1.20134400e-08   3.68265463e-09\n",
      "   3.39699757e-09] \n",
      " and predicted classes: [14  1  5  0  3]\n",
      "caution probabilities: [  9.54446018e-01   4.40508425e-02   1.50315685e-03   1.03445545e-08\n",
      "   6.62281601e-12] \n",
      " and predicted classes: [18 27 24 26 28]\n",
      "wild probabilities: [  9.99933004e-01   5.24354982e-05   8.79541949e-06   4.06006075e-06\n",
      "   9.06874618e-07] \n",
      " and predicted classes: [31 23 21 19 25]\n",
      "road probabilities: [  1.00000000e+00   3.26251522e-31   5.04169018e-36   3.29611631e-38\n",
      "   0.00000000e+00] \n",
      " and predicted classes: [25 22 20 29  0]\n",
      "priority probabilities: [  9.97801840e-01   1.15020387e-03   8.27353855e-04   9.34677155e-05\n",
      "   9.28947120e-05] \n",
      " and predicted classes: [40 37 34 35 33]\n",
      "yield probabilities: [  1.00000000e+00   1.15559386e-24   2.38645677e-27   1.93598902e-29\n",
      "   1.45017541e-31] \n",
      " and predicted classes: [13 15 14  2  1]\n",
      "turn probabilities: [  1.00000000e+00   5.61183100e-10   1.49300072e-10   5.61703253e-11\n",
      "   6.22079103e-13] \n",
      " and predicted classes: [14 13  1 17 10]\n",
      "keep probabilities: [ 0.73686177  0.1049629   0.09448133  0.02522673  0.02028282] \n",
      " and predicted classes: [2 1 3 0 4]\n"
     ]
    }
   ],
   "source": [
    "for i in range(len(predicts[0])):\n",
    "    print( files[i].split('_')[0] , 'probabilities:', predicts[0][i], '\\n and predicted classes:', predicts[1][i])"
   ]
  },
  {
   "cell_type": "code",
   "execution_count": 147,
   "metadata": {
    "collapsed": false,
    "deletable": true,
    "editable": true
   },
   "outputs": [
    {
     "data": {
      "image/png": "[encoded data removed]",
      "text/plain": [
       "<matplotlib.figure.Figure at 0x7f132e567518>"
      ]
     },
     "metadata": {},
     "output_type": "display_data"
    },
    {
     "data": {
      "image/png": "[encoded data removed]",
      "text/plain": [
       "<matplotlib.figure.Figure at 0x7f12d4d5e240>"
      ]
     },
     "metadata": {},
     "output_type": "display_data"
    },
    {
     "data": {
      "image/png": "[encoded data removed]",
      "text/plain": [
       "<matplotlib.figure.Figure at 0x7f128c2e28d0>"
      ]
     },
     "metadata": {},
     "output_type": "display_data"
    },
    {
     "data": {
      "image/png": "[encoded data removed]",
      "text/plain": [
       "<matplotlib.figure.Figure at 0x7f1286d67278>"
      ]
     },
     "metadata": {},
     "output_type": "display_data"
    },
    {
     "data": {
      "image/png": "[encoded data removed]",
      "text/plain": [
       "<matplotlib.figure.Figure at 0x7f1286d72e10>"
      ]
     },
     "metadata": {},
     "output_type": "display_data"
    },
    {
     "data": {
      "image/png": "[encoded data removed]",
      "text/plain": [
       "<matplotlib.figure.Figure at 0x7f12928c77f0>"
      ]
     },
     "metadata": {},
     "output_type": "display_data"
    },
    {
     "data": {
      "image/png": "[encoded data removed]",
      "text/plain": [
       "<matplotlib.figure.Figure at 0x7f12d5720080>"
      ]
     },
     "metadata": {},
     "output_type": "display_data"
    },
    {
     "data": {
      "image/png": "[encoded data removed]",
      "text/plain": [
       "<matplotlib.figure.Figure at 0x7f135ac1e978>"
      ]
     },
     "metadata": {},
     "output_type": "display_data"
    },
    {
     "data": {
      "image/png": "[encoded data removed]",
      "text/plain": [
       "<matplotlib.figure.Figure at 0x7f12d50df128>"
      ]
     },
     "metadata": {},
     "output_type": "display_data"
    },
    {
     "data": {
      "image/png": "[encoded data removed]",
      "text/plain": [
       "<matplotlib.figure.Figure at 0x7f12d5504438>"
      ]
     },
     "metadata": {},
     "output_type": "display_data"
    }
   ],
   "source": [
    "top_k_values = predicts[0]\n",
    "top_k_indices = predicts[1]\n",
    "\n",
    "\n",
    "### Visualize the softmax probabilities\n",
    "N = 5\n",
    "\n",
    "ind = np.arange(N)  # the x locations for the values\n",
    "width = 0.50       # the width of the bars\n",
    "\n",
    "for i in range(10):\n",
    "    plt.figure(i)\n",
    "    values = top_k_values[i]\n",
    "    plt.bar(ind, values, width, color='r')\n",
    "    plt.ylabel('Prediction Probabilities')\n",
    "    plt.xlabel('Class Labels')\n",
    "    plt.title('Top 5 Softmax Probabilities for image {}'.format(files[i]))\n",
    "    plt.xticks(ind+width, tuple(top_k_indices[i]))\n",
    "\n",
    "plt.show()"
   ]
  },
  {
   "cell_type": "code",
   "execution_count": 166,
   "metadata": {
    "collapsed": true,
    "deletable": true,
    "editable": true
   },
   "outputs": [],
   "source": [
    "def random_change(img):\n",
    "    # add rotate\n",
    "    cols, rows, channel = img.shape\n",
    "    if random.random() < 0.5:\n",
    "        theta = random.random()*40-20\n",
    "        M = cv2.getRotationMatrix2D((cols/2,rows/2),theta,1)\n",
    "        img = cv2.warpAffine(img,M,(cols,rows))\n",
    "    if random.random() < 0.5:\n",
    "        col = random.choice(range(-5,5))\n",
    "        row = random.choice(range(-5,5))\n",
    "        M = np.float32([[1,0,col],[0,1,row]])\n",
    "        img = cv2.warpAffine(img,M,(cols,rows))\n",
    "    return img"
   ]
  },
  {
   "cell_type": "markdown",
   "metadata": {
    "collapsed": true,
    "deletable": true,
    "editable": true
   },
   "source": [
    "**Answer:**\n",
    "\n",
    "The model is certain about the last nine pictures with nearly probability of 1. It is no tcertain about the first picture. It seems the model for some classes of labels is kind of biased, even with top 5 predictions, for those wrong classification, it still can not get the true label. Thus we can look insight the original training dataset more and augment the dataset properly."
   ]
  },
  {
   "cell_type": "code",
   "execution_count": null,
   "metadata": {
    "collapsed": true
   },
   "outputs": [],
   "source": []
  }
 ],
 "metadata": {
  "anaconda-cloud": {},
  "kernelspec": {
   "display_name": "Python 3",
   "language": "python",
   "name": "python3"
  },
  "language_info": {
   "codemirror_mode": {
    "name": "ipython",
    "version": 3
   },
   "file_extension": ".py",
   "mimetype": "text/x-python",
   "name": "python",
   "nbconvert_exporter": "python",
   "pygments_lexer": "ipython3",
   "version": "3.5.2"
  },
  "widgets": {
   "state": {},
   "version": "1.1.2"
  }
 },
 "nbformat": 4,
 "nbformat_minor": 1
}
